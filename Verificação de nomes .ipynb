{
 "cells": [
  {
   "cell_type": "code",
   "execution_count": 1,
   "id": "0b2ffa2b",
   "metadata": {},
   "outputs": [],
   "source": [
    "import pandas as pd\n",
    "import string"
   ]
  },
  {
   "cell_type": "code",
   "execution_count": 2,
   "id": "662a80e1",
   "metadata": {},
   "outputs": [],
   "source": [
    "pd.set_option('display.max_rows', None)\n",
    "pd.set_option('display.max_columns', None)\n",
    "pd.set_option('display.max_colwidth', None)"
   ]
  },
  {
   "cell_type": "code",
   "execution_count": 3,
   "id": "b2f73695",
   "metadata": {},
   "outputs": [],
   "source": [
    "def remove_punctuations(text):\n",
    "    for punctuation in string.punctuation:\n",
    "        text = text.replace(punctuation, '')\n",
    "    return text"
   ]
  },
  {
   "cell_type": "code",
   "execution_count": 4,
   "id": "8138911a",
   "metadata": {},
   "outputs": [],
   "source": [
    "nomes_base = pd.read_excel('Nomes.xlsx')"
   ]
  },
  {
   "cell_type": "code",
   "execution_count": 5,
   "id": "d225325d",
   "metadata": {},
   "outputs": [],
   "source": [
    "nomes_base['Nomes'] = nomes_base['Nomes'].str.lower()\n",
    "nomes_base['Nomes'] = nomes_base['Nomes'].str.strip()\n",
    "nomes_base['Nomes'] = nomes_base['Nomes'].apply(remove_punctuations)\n",
    "nomes_base['Nomes'] = nomes_base['Nomes'].str.normalize('NFKD').str.encode('ascii',errors='ignore').str.decode('utf-8')"
   ]
  },
  {
   "cell_type": "code",
   "execution_count": 6,
   "id": "1676304d",
   "metadata": {},
   "outputs": [],
   "source": [
    "def presenca(nome_planilha):\n",
    "    lista = pd.read_excel(f'{nome_planilha}.xlsx')\n",
    "    lista = lista.iloc[:, 7]\n",
    "    lista =  pd.DataFrame(lista)\n",
    "    lista.columns.values[0] = 'Nomes'\n",
    "    lista = lista[['Nomes']]\n",
    "    lista['Nomes'] = lista['Nomes'].str.lower()\n",
    "    lista['Nomes'] = lista['Nomes'].str.strip()\n",
    "    lista['Nomes'] = lista['Nomes'].apply(remove_punctuations)\n",
    "    lista['Nomes'] = lista['Nomes'].str.normalize('NFKD').str.encode('ascii',errors='ignore').str.decode('utf-8')\n",
    "    verificacao = nomes_base.assign(**{'Presença': nomes_base['Nomes'].isin(lista['Nomes'])})\n",
    "    verificacao = verificacao[verificacao['Presença'] == False]\n",
    "    verificacao['Verificação'] = verificacao['Nomes'].apply(\n",
    "    lambda nome: '/////'.join(lista[lista['Nomes'].str.startswith(nome.split()[0])]['Nomes']))\n",
    "    return verificacao\n"
   ]
  },
  {
   "cell_type": "code",
   "execution_count": null,
   "id": "74458947",
   "metadata": {},
   "outputs": [],
   "source": []
  }
 ],
 "metadata": {
  "kernelspec": {
   "display_name": "Python 3 (ipykernel)",
   "language": "python",
   "name": "python3"
  },
  "language_info": {
   "codemirror_mode": {
    "name": "ipython",
    "version": 3
   },
   "file_extension": ".py",
   "mimetype": "text/x-python",
   "name": "python",
   "nbconvert_exporter": "python",
   "pygments_lexer": "ipython3",
   "version": "3.9.7"
  }
 },
 "nbformat": 4,
 "nbformat_minor": 5
}
